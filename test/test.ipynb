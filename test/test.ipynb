{
 "cells": [
  {
   "cell_type": "code",
   "execution_count": 1,
   "metadata": {},
   "outputs": [],
   "source": [
    "import math"
   ]
  },
  {
   "cell_type": "code",
   "execution_count": 11,
   "metadata": {},
   "outputs": [],
   "source": [
    "test =[\n",
    "    [1,2,3],\n",
    "    [1,2,3],\n",
    "    [6,2,3]\n",
    "]"
   ]
  },
  {
   "cell_type": "code",
   "execution_count": 8,
   "metadata": {},
   "outputs": [],
   "source": [
    "def get_sub_matrix(matrix, rows, columns):\n",
    "    ri, rf = rows\n",
    "    ci, cf = columns\n",
    "\n",
    "    rows_matrix = matrix[ri:rf]\n",
    "    result = []\n",
    "    for row in rows_matrix:\n",
    "        result.append(row[ci:cf])\n",
    "    return result"
   ]
  },
  {
   "cell_type": "code",
   "execution_count": 10,
   "metadata": {},
   "outputs": [
    {
     "data": {
      "text/plain": [
       "[[6, 2, 3, 4, 5, 6, 7], [6, 2, 3, 4, 5, 6, 7]]"
      ]
     },
     "execution_count": 10,
     "metadata": {},
     "output_type": "execute_result"
    }
   ],
   "source": [
    "get_sub_matrix(test, (2,4), (0,7))"
   ]
  },
  {
   "cell_type": "code",
   "execution_count": 12,
   "metadata": {},
   "outputs": [],
   "source": [
    "a= [[ 2, 3, 4, 5, 6, 7],[ 2, 3, 4, 5, 6, 7],[ 2, 3, 4, 5, 6, 7]]\n",
    "b=[[ 5, 3, 4, 5, 6, 7],[ 5, 3, 4, 5, 6, 7],[5, 3, 4, 5, 6, 7]]"
   ]
  },
  {
   "cell_type": "code",
   "execution_count": 13,
   "metadata": {},
   "outputs": [
    {
     "data": {
      "text/plain": [
       "[[2, 3, 4, 5, 6, 7],\n",
       " [2, 3, 4, 5, 6, 7],\n",
       " [2, 3, 4, 5, 6, 7],\n",
       " [5, 3, 4, 5, 6, 7],\n",
       " [5, 3, 4, 5, 6, 7],\n",
       " [5, 3, 4, 5, 6, 7]]"
      ]
     },
     "execution_count": 13,
     "metadata": {},
     "output_type": "execute_result"
    }
   ],
   "source": [
    "a + b"
   ]
  },
  {
   "cell_type": "code",
   "execution_count": null,
   "metadata": {},
   "outputs": [],
   "source": []
  }
 ],
 "metadata": {
  "kernelspec": {
   "display_name": "Python 3.9.12 ('base')",
   "language": "python",
   "name": "python3"
  },
  "language_info": {
   "codemirror_mode": {
    "name": "ipython",
    "version": 3
   },
   "file_extension": ".py",
   "mimetype": "text/x-python",
   "name": "python",
   "nbconvert_exporter": "python",
   "pygments_lexer": "ipython3",
   "version": "3.9.12"
  },
  "orig_nbformat": 4,
  "vscode": {
   "interpreter": {
    "hash": "38df5b977d726286e1d8f7be28e0a7ab528a11cffc8b179ff55f1f026c4c21da"
   }
  }
 },
 "nbformat": 4,
 "nbformat_minor": 2
}
